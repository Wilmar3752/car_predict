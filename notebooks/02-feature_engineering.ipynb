{
 "cells": [
  {
   "cell_type": "code",
   "execution_count": 9,
   "metadata": {},
   "outputs": [
    {
     "name": "stdout",
     "output_type": "stream",
     "text": [
      "The autoreload extension is already loaded. To reload it, use:\n",
      "  %reload_ext autoreload\n"
     ]
    }
   ],
   "source": [
    "%load_ext autoreload\n",
    "%autoreload 2\n",
    "import pandas as pd\n",
    "from sklearn.model_selection import train_test_split\n",
    "from feature_engine.imputation import AddMissingIndicator, MeanMedianImputer, CategoricalImputer\n",
    "from feature_engine.transformation import LogTransformer\n",
    "from feature_engine.discretisation import ArbitraryDiscretiser\n",
    "from feature_engine.encoding import RareLabelEncoder, OrdinalEncoder\n",
    "from feature_engine.datetime import DatetimeFeatures\n",
    "from utils import ScalerDf\n",
    "from sklearn.pipeline import Pipeline\n",
    "import joblib\n",
    "import numpy as np"
   ]
  },
  {
   "cell_type": "code",
   "execution_count": 11,
   "metadata": {},
   "outputs": [],
   "source": [
    "data = pd.read_csv('../data/raw/car_raw.csv', index_col=0)\n",
    "data['year_created' ] = data['_created'].apply(lambda x: x[:4]).astype(int)\n",
    "data['antique'] = data['year_created'] - data['years']\n",
    "final_vars = ['price', 'antique', 'vehicle_make', 'vehicle_line', 'kilometraje', 'location_city', 'location_state']\n",
    "data = data[final_vars]"
   ]
  },
  {
   "cell_type": "code",
   "execution_count": 13,
   "metadata": {},
   "outputs": [
    {
     "data": {
      "text/plain": [
       "((2927, 6), (326, 6))"
      ]
     },
     "execution_count": 13,
     "metadata": {},
     "output_type": "execute_result"
    }
   ],
   "source": [
    "X_train, X_test, y_train, y_test = train_test_split(\n",
    "    data.drop(['price'], axis=1), # predictive variables\n",
    "    data['price'], # target\n",
    "    test_size=0.1, # portion of dataset to allocate to test set\n",
    "    random_state=0, # we are setting the seed here\n",
    ")\n",
    "\n",
    "X_train.shape, X_test.shape"
   ]
  },
  {
   "attachments": {},
   "cell_type": "markdown",
   "metadata": {},
   "source": [
    "## Transformation of numerical vars"
   ]
  },
  {
   "cell_type": "code",
   "execution_count": 16,
   "metadata": {},
   "outputs": [],
   "source": [
    "log_vars =['antique','kilometraje']\n",
    "logtranformer = LogTransformer(variables=log_vars)\n",
    "logtranformer.fit(data)\n",
    "transform_data = logtranformer.transform(data)"
   ]
  },
  {
   "attachments": {},
   "cell_type": "markdown",
   "metadata": {},
   "source": [
    "### Discretizacion"
   ]
  },
  {
   "cell_type": "code",
   "execution_count": 8,
   "metadata": {},
   "outputs": [
    {
     "data": {
      "text/html": [
       "<div>\n",
       "<style scoped>\n",
       "    .dataframe tbody tr th:only-of-type {\n",
       "        vertical-align: middle;\n",
       "    }\n",
       "\n",
       "    .dataframe tbody tr th {\n",
       "        vertical-align: top;\n",
       "    }\n",
       "\n",
       "    .dataframe thead th {\n",
       "        text-align: right;\n",
       "    }\n",
       "</style>\n",
       "<table border=\"1\" class=\"dataframe\">\n",
       "  <thead>\n",
       "    <tr style=\"text-align: right;\">\n",
       "      <th></th>\n",
       "      <th>a</th>\n",
       "      <th>b</th>\n",
       "      <th>c</th>\n",
       "      <th>d</th>\n",
       "      <th>e</th>\n",
       "      <th>f</th>\n",
       "      <th>g</th>\n",
       "      <th>h</th>\n",
       "      <th>j</th>\n",
       "      <th>k</th>\n",
       "      <th>...</th>\n",
       "      <th>monto</th>\n",
       "      <th>score</th>\n",
       "      <th>b_na</th>\n",
       "      <th>c_na</th>\n",
       "      <th>d_na</th>\n",
       "      <th>f_na</th>\n",
       "      <th>g_na</th>\n",
       "      <th>l_na</th>\n",
       "      <th>m_na</th>\n",
       "      <th>o_na</th>\n",
       "    </tr>\n",
       "  </thead>\n",
       "  <tbody>\n",
       "    <tr>\n",
       "      <th>135569</th>\n",
       "      <td>4</td>\n",
       "      <td>0.5217</td>\n",
       "      <td>9.791941</td>\n",
       "      <td>1.0</td>\n",
       "      <td>1</td>\n",
       "      <td>1</td>\n",
       "      <td>BR</td>\n",
       "      <td>36</td>\n",
       "      <td>cat_4744ece</td>\n",
       "      <td>0.636610</td>\n",
       "      <td>...</td>\n",
       "      <td>3.214466</td>\n",
       "      <td>93</td>\n",
       "      <td>0</td>\n",
       "      <td>0</td>\n",
       "      <td>0</td>\n",
       "      <td>0</td>\n",
       "      <td>0</td>\n",
       "      <td>0</td>\n",
       "      <td>0</td>\n",
       "      <td>1</td>\n",
       "    </tr>\n",
       "    <tr>\n",
       "      <th>78656</th>\n",
       "      <td>2</td>\n",
       "      <td>0.7554</td>\n",
       "      <td>10.686472</td>\n",
       "      <td>1.0</td>\n",
       "      <td>0</td>\n",
       "      <td>1</td>\n",
       "      <td>AR</td>\n",
       "      <td>8</td>\n",
       "      <td>cat_3203c7c</td>\n",
       "      <td>0.633266</td>\n",
       "      <td>...</td>\n",
       "      <td>3.364188</td>\n",
       "      <td>6</td>\n",
       "      <td>1</td>\n",
       "      <td>1</td>\n",
       "      <td>0</td>\n",
       "      <td>0</td>\n",
       "      <td>0</td>\n",
       "      <td>0</td>\n",
       "      <td>0</td>\n",
       "      <td>1</td>\n",
       "    </tr>\n",
       "    <tr>\n",
       "      <th>87437</th>\n",
       "      <td>4</td>\n",
       "      <td>0.5437</td>\n",
       "      <td>11.717906</td>\n",
       "      <td>1.0</td>\n",
       "      <td>1</td>\n",
       "      <td>1</td>\n",
       "      <td>AR</td>\n",
       "      <td>46</td>\n",
       "      <td>cat_5b785c6</td>\n",
       "      <td>0.735749</td>\n",
       "      <td>...</td>\n",
       "      <td>3.106826</td>\n",
       "      <td>55</td>\n",
       "      <td>0</td>\n",
       "      <td>0</td>\n",
       "      <td>0</td>\n",
       "      <td>0</td>\n",
       "      <td>0</td>\n",
       "      <td>0</td>\n",
       "      <td>0</td>\n",
       "      <td>1</td>\n",
       "    </tr>\n",
       "    <tr>\n",
       "      <th>131674</th>\n",
       "      <td>4</td>\n",
       "      <td>0.7418</td>\n",
       "      <td>9.755215</td>\n",
       "      <td>50.0</td>\n",
       "      <td>1</td>\n",
       "      <td>1</td>\n",
       "      <td>BR</td>\n",
       "      <td>9</td>\n",
       "      <td>cat_a8c10a4</td>\n",
       "      <td>0.529367</td>\n",
       "      <td>...</td>\n",
       "      <td>2.867899</td>\n",
       "      <td>7</td>\n",
       "      <td>0</td>\n",
       "      <td>0</td>\n",
       "      <td>0</td>\n",
       "      <td>0</td>\n",
       "      <td>0</td>\n",
       "      <td>0</td>\n",
       "      <td>0</td>\n",
       "      <td>1</td>\n",
       "    </tr>\n",
       "    <tr>\n",
       "      <th>45535</th>\n",
       "      <td>4</td>\n",
       "      <td>0.6463</td>\n",
       "      <td>10.851127</td>\n",
       "      <td>4.0</td>\n",
       "      <td>1</td>\n",
       "      <td>1</td>\n",
       "      <td>AR</td>\n",
       "      <td>22</td>\n",
       "      <td>cat_edae169</td>\n",
       "      <td>0.049212</td>\n",
       "      <td>...</td>\n",
       "      <td>3.383712</td>\n",
       "      <td>32</td>\n",
       "      <td>0</td>\n",
       "      <td>0</td>\n",
       "      <td>0</td>\n",
       "      <td>0</td>\n",
       "      <td>0</td>\n",
       "      <td>0</td>\n",
       "      <td>0</td>\n",
       "      <td>0</td>\n",
       "    </tr>\n",
       "  </tbody>\n",
       "</table>\n",
       "<p>5 rows × 26 columns</p>\n",
       "</div>"
      ],
      "text/plain": [
       "        a       b          c     d  e  f   g   h            j         k  ...  \\\n",
       "135569  4  0.5217   9.791941   1.0  1  1  BR  36  cat_4744ece  0.636610  ...   \n",
       "78656   2  0.7554  10.686472   1.0  0  1  AR   8  cat_3203c7c  0.633266  ...   \n",
       "87437   4  0.5437  11.717906   1.0  1  1  AR  46  cat_5b785c6  0.735749  ...   \n",
       "131674  4  0.7418   9.755215  50.0  1  1  BR   9  cat_a8c10a4  0.529367  ...   \n",
       "45535   4  0.6463  10.851127   4.0  1  1  AR  22  cat_edae169  0.049212  ...   \n",
       "\n",
       "           monto  score  b_na c_na d_na f_na  g_na  l_na  m_na  o_na  \n",
       "135569  3.214466     93     0    0    0    0     0     0     0     1  \n",
       "78656   3.364188      6     1    1    0    0     0     0     0     1  \n",
       "87437   3.106826     55     0    0    0    0     0     0     0     1  \n",
       "131674  2.867899      7     0    0    0    0     0     0     0     1  \n",
       "45535   3.383712     32     0    0    0    0     0     0     0     0  \n",
       "\n",
       "[5 rows x 26 columns]"
      ]
     },
     "execution_count": 8,
     "metadata": {},
     "output_type": "execute_result"
    }
   ],
   "source": [
    "skewed_vars = ['e', 'f']\n",
    "discretizer = ArbitraryDiscretiser( binning_dict= dict(e =[-np.inf,0,np.inf], f=[-np.inf,0,np.inf]) )\n",
    "discretizer.fit(transform_data)\n",
    "transform_data = discretizer.transform(transform_data)\n",
    "transform_data.head()"
   ]
  },
  {
   "attachments": {},
   "cell_type": "markdown",
   "metadata": {},
   "source": [
    "# Transformacion variables categoricas"
   ]
  },
  {
   "cell_type": "code",
   "execution_count": 21,
   "metadata": {},
   "outputs": [],
   "source": [
    "# capture categorical variables in a list\n",
    "cat_vars = [var for var in data.columns if data[var].dtypes == 'O' and 'fecha' not in var]\n"
   ]
  },
  {
   "cell_type": "code",
   "execution_count": 26,
   "metadata": {},
   "outputs": [],
   "source": [
    "## Encode rare labels\n",
    "rarelabel = RareLabelEncoder(variables=cat_vars, tol=0.001, n_categories=1)\n",
    "rarelabel.fit(X_train)\n",
    "transform_data = rarelabel.transform(X_train)\n"
   ]
  },
  {
   "cell_type": "code",
   "execution_count": 27,
   "metadata": {},
   "outputs": [],
   "source": [
    "## ordinal encoders\n",
    "ordinal_encoder = OrdinalEncoder(variables=cat_vars)\n",
    "ordinal_encoder.fit(transform_data, y_train)\n",
    "transform_data = ordinal_encoder.transform(transform_data)"
   ]
  },
  {
   "attachments": {},
   "cell_type": "markdown",
   "metadata": {},
   "source": [
    "## Scaler data"
   ]
  },
  {
   "cell_type": "code",
   "execution_count": 29,
   "metadata": {},
   "outputs": [],
   "source": [
    "scaler = ScalerDf(method='minmax')\n",
    "scaler.fit(transform_data)\n",
    "transform_data = scaler.transform(transform_data)"
   ]
  },
  {
   "cell_type": "code",
   "execution_count": 30,
   "metadata": {},
   "outputs": [
    {
     "data": {
      "text/plain": [
       "Index(['antique', 'vehicle_make', 'vehicle_line', 'kilometraje',\n",
       "       'location_city', 'location_state'],\n",
       "      dtype='object')"
      ]
     },
     "execution_count": 30,
     "metadata": {},
     "output_type": "execute_result"
    }
   ],
   "source": [
    "transform_data.columns"
   ]
  },
  {
   "attachments": {},
   "cell_type": "markdown",
   "metadata": {},
   "source": [
    "# Pongamos todo junto"
   ]
  },
  {
   "cell_type": "code",
   "execution_count": 31,
   "metadata": {},
   "outputs": [],
   "source": [
    "pipeline_steps = [\n",
    "\n",
    "    ('rare_label_encoder', RareLabelEncoder(variables=cat_vars, tol=0.001, n_categories=1)),\n",
    "    ('ordinal_encoder', OrdinalEncoder(variables=cat_vars)),\n",
    "    ('scaler', ScalerDf(method='minmax'))\n",
    "    \n",
    "]\n",
    "fraud_pipeline = Pipeline(pipeline_steps)\n",
    "fraud_pipeline.fit(X_train, y_train)"
   ]
  },
  {
   "cell_type": "code",
   "execution_count": 35,
   "metadata": {},
   "outputs": [
    {
     "data": {
      "text/html": [
       "<div>\n",
       "<style scoped>\n",
       "    .dataframe tbody tr th:only-of-type {\n",
       "        vertical-align: middle;\n",
       "    }\n",
       "\n",
       "    .dataframe tbody tr th {\n",
       "        vertical-align: top;\n",
       "    }\n",
       "\n",
       "    .dataframe thead th {\n",
       "        text-align: right;\n",
       "    }\n",
       "</style>\n",
       "<table border=\"1\" class=\"dataframe\">\n",
       "  <thead>\n",
       "    <tr style=\"text-align: right;\">\n",
       "      <th></th>\n",
       "      <th>antique</th>\n",
       "      <th>vehicle_make</th>\n",
       "      <th>vehicle_line</th>\n",
       "      <th>kilometraje</th>\n",
       "      <th>location_city</th>\n",
       "      <th>location_state</th>\n",
       "    </tr>\n",
       "  </thead>\n",
       "  <tbody>\n",
       "    <tr>\n",
       "      <th>305</th>\n",
       "      <td>0.142857</td>\n",
       "      <td>0.829268</td>\n",
       "      <td>0.883721</td>\n",
       "      <td>0.077349</td>\n",
       "      <td>0.84375</td>\n",
       "      <td>0.25</td>\n",
       "    </tr>\n",
       "    <tr>\n",
       "      <th>981</th>\n",
       "      <td>0.028571</td>\n",
       "      <td>0.292683</td>\n",
       "      <td>0.401163</td>\n",
       "      <td>0.008766</td>\n",
       "      <td>0.68750</td>\n",
       "      <td>0.25</td>\n",
       "    </tr>\n",
       "    <tr>\n",
       "      <th>1084</th>\n",
       "      <td>1.000000</td>\n",
       "      <td>0.292683</td>\n",
       "      <td>0.087209</td>\n",
       "      <td>0.002678</td>\n",
       "      <td>0.43750</td>\n",
       "      <td>0.25</td>\n",
       "    </tr>\n",
       "    <tr>\n",
       "      <th>3100</th>\n",
       "      <td>0.128571</td>\n",
       "      <td>0.707317</td>\n",
       "      <td>0.691860</td>\n",
       "      <td>0.108336</td>\n",
       "      <td>0.68750</td>\n",
       "      <td>0.25</td>\n",
       "    </tr>\n",
       "    <tr>\n",
       "      <th>3095</th>\n",
       "      <td>0.142857</td>\n",
       "      <td>0.560976</td>\n",
       "      <td>0.831395</td>\n",
       "      <td>0.212637</td>\n",
       "      <td>0.15625</td>\n",
       "      <td>0.25</td>\n",
       "    </tr>\n",
       "    <tr>\n",
       "      <th>...</th>\n",
       "      <td>...</td>\n",
       "      <td>...</td>\n",
       "      <td>...</td>\n",
       "      <td>...</td>\n",
       "      <td>...</td>\n",
       "      <td>...</td>\n",
       "    </tr>\n",
       "    <tr>\n",
       "      <th>763</th>\n",
       "      <td>0.071429</td>\n",
       "      <td>0.463415</td>\n",
       "      <td>0.191860</td>\n",
       "      <td>0.067564</td>\n",
       "      <td>0.68750</td>\n",
       "      <td>0.25</td>\n",
       "    </tr>\n",
       "    <tr>\n",
       "      <th>835</th>\n",
       "      <td>0.028571</td>\n",
       "      <td>0.926829</td>\n",
       "      <td>0.982558</td>\n",
       "      <td>0.025777</td>\n",
       "      <td>0.90625</td>\n",
       "      <td>0.75</td>\n",
       "    </tr>\n",
       "    <tr>\n",
       "      <th>1653</th>\n",
       "      <td>0.157143</td>\n",
       "      <td>0.317073</td>\n",
       "      <td>0.284884</td>\n",
       "      <td>0.122315</td>\n",
       "      <td>0.43750</td>\n",
       "      <td>0.25</td>\n",
       "    </tr>\n",
       "    <tr>\n",
       "      <th>2762</th>\n",
       "      <td>0.128571</td>\n",
       "      <td>0.121951</td>\n",
       "      <td>0.063953</td>\n",
       "      <td>0.079213</td>\n",
       "      <td>0.68750</td>\n",
       "      <td>0.25</td>\n",
       "    </tr>\n",
       "    <tr>\n",
       "      <th>2939</th>\n",
       "      <td>0.128571</td>\n",
       "      <td>0.292683</td>\n",
       "      <td>0.273256</td>\n",
       "      <td>0.083020</td>\n",
       "      <td>0.43750</td>\n",
       "      <td>0.25</td>\n",
       "    </tr>\n",
       "  </tbody>\n",
       "</table>\n",
       "<p>2927 rows × 6 columns</p>\n",
       "</div>"
      ],
      "text/plain": [
       "       antique  vehicle_make  vehicle_line  kilometraje  location_city  \\\n",
       "305   0.142857      0.829268      0.883721     0.077349        0.84375   \n",
       "981   0.028571      0.292683      0.401163     0.008766        0.68750   \n",
       "1084  1.000000      0.292683      0.087209     0.002678        0.43750   \n",
       "3100  0.128571      0.707317      0.691860     0.108336        0.68750   \n",
       "3095  0.142857      0.560976      0.831395     0.212637        0.15625   \n",
       "...        ...           ...           ...          ...            ...   \n",
       "763   0.071429      0.463415      0.191860     0.067564        0.68750   \n",
       "835   0.028571      0.926829      0.982558     0.025777        0.90625   \n",
       "1653  0.157143      0.317073      0.284884     0.122315        0.43750   \n",
       "2762  0.128571      0.121951      0.063953     0.079213        0.68750   \n",
       "2939  0.128571      0.292683      0.273256     0.083020        0.43750   \n",
       "\n",
       "      location_state  \n",
       "305             0.25  \n",
       "981             0.25  \n",
       "1084            0.25  \n",
       "3100            0.25  \n",
       "3095            0.25  \n",
       "...              ...  \n",
       "763             0.25  \n",
       "835             0.75  \n",
       "1653            0.25  \n",
       "2762            0.25  \n",
       "2939            0.25  \n",
       "\n",
       "[2927 rows x 6 columns]"
      ]
     },
     "execution_count": 35,
     "metadata": {},
     "output_type": "execute_result"
    }
   ],
   "source": [
    "fraud_pipeline.transform(X_train)"
   ]
  },
  {
   "cell_type": "code",
   "execution_count": 38,
   "metadata": {},
   "outputs": [],
   "source": [
    "model = joblib.dump(fraud_pipeline, '../models/feature_engineering_pipeline.joblib')"
   ]
  },
  {
   "cell_type": "code",
   "execution_count": 39,
   "metadata": {},
   "outputs": [
    {
     "data": {
      "text/plain": [
       "['../models/feature_engineering_pipeline.joblib']"
      ]
     },
     "execution_count": 39,
     "metadata": {},
     "output_type": "execute_result"
    }
   ],
   "source": [
    "model"
   ]
  },
  {
   "cell_type": "code",
   "execution_count": null,
   "metadata": {},
   "outputs": [],
   "source": []
  }
 ],
 "metadata": {
  "kernelspec": {
   "display_name": "fraud-detection",
   "language": "python",
   "name": "python3"
  },
  "language_info": {
   "codemirror_mode": {
    "name": "ipython",
    "version": 3
   },
   "file_extension": ".py",
   "mimetype": "text/x-python",
   "name": "python",
   "nbconvert_exporter": "python",
   "pygments_lexer": "ipython3",
   "version": "3.11.8"
  },
  "orig_nbformat": 4,
  "vscode": {
   "interpreter": {
    "hash": "45e631c81adbf0cb55b2526738ae1a14c53cfa3f28a6ae1bee5619daf3ab935d"
   }
  }
 },
 "nbformat": 4,
 "nbformat_minor": 2
}
