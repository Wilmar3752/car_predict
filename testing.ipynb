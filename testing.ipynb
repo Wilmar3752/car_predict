{
 "cells": [
  {
   "cell_type": "code",
   "execution_count": 10,
   "metadata": {},
   "outputs": [
    {
     "name": "stdout",
     "output_type": "stream",
     "text": [
      "The autoreload extension is already loaded. To reload it, use:\n",
      "  %reload_ext autoreload\n"
     ]
    }
   ],
   "source": [
    "%load_ext autoreload\n",
    "%autoreload 2\n",
    "import pandas as pd\n",
    "import boto3\n",
    "import os\n",
    "session = boto3.Session(profile_name='personal')\n",
    "\n",
    "# Crear un recurso de S3 usando la sesión\n",
    "s3 = session.client('s3')\n",
    "def download_files_from_s3(bucket_name, download_directory):\n",
    "    paginator = s3.get_paginator('list_objects_v2')\n",
    "    for page in paginator.paginate(Bucket=bucket_name):\n",
    "        for obj in page.get('Contents', []):\n",
    "            local_file_path = os.path.join(download_directory, obj['Key'])\n",
    "            os.makedirs(os.path.dirname(local_file_path), exist_ok=True)\n",
    "            s3.download_file(bucket_name, obj['Key'], local_file_path)\n",
    "            print(f\"Descargado: {local_file_path}\")\n",
    "\n",
    "# Llama a la función para descargar los archivos\n",
    "download_files_from_s3('scraper-meli', 'data/raw')"
   ]
  },
  {
   "cell_type": "code",
   "execution_count": 4,
   "metadata": {},
   "outputs": [],
   "source": [
    "import pandas as pd\n",
    "import glob\n",
    "import os\n",
    "\n",
    "# Especifica el directorio donde se encuentran los archivos CSV\n",
    "path = 'data/raw'\n",
    "all_files = glob.glob(os.path.join(path, \"*.csv\"))\n",
    "\n",
    "li = []\n",
    "\n",
    "for filename in all_files:\n",
    "    df = pd.read_csv(filename, index_col=0)\n",
    "    li.append(df)\n",
    "\n",
    "frame = pd.concat(li, axis=0, ignore_index=True)"
   ]
  },
  {
   "cell_type": "code",
   "execution_count": 5,
   "metadata": {},
   "outputs": [],
   "source": [
    "frame = frame.drop_duplicates(subset='id', keep='last')"
   ]
  },
  {
   "cell_type": "code",
   "execution_count": 12,
   "metadata": {},
   "outputs": [
    {
     "data": {
      "text/plain": [
       "years\n",
       "2019    237\n",
       "2022    228\n",
       "2020    227\n",
       "2017    219\n",
       "2018    189\n",
       "2015    180\n",
       "2014    171\n",
       "2013    159\n",
       "2016    157\n",
       "2023    151\n",
       "2012    143\n",
       "2021    128\n",
       "2011    111\n",
       "2008     71\n",
       "2010     65\n",
       "2009     53\n",
       "2007     48\n",
       "2024     30\n",
       "2006     30\n",
       "2005     19\n",
       "1999     16\n",
       "1998     12\n",
       "2003     11\n",
       "2000      9\n",
       "2004      8\n",
       "1997      7\n",
       "2002      7\n",
       "2001      6\n",
       "1996      5\n",
       "1989      3\n",
       "1990      3\n",
       "1994      3\n",
       "1987      2\n",
       "1982      2\n",
       "1995      1\n",
       "1954      1\n",
       "1980      1\n",
       "1985      1\n",
       "1984      1\n",
       "Name: count, dtype: int64"
      ]
     },
     "execution_count": 12,
     "metadata": {},
     "output_type": "execute_result"
    }
   ],
   "source": [
    "frame['years'].value_counts()ß"
   ]
  },
  {
   "cell_type": "code",
   "execution_count": null,
   "metadata": {},
   "outputs": [],
   "source": []
  }
 ],
 "metadata": {
  "kernelspec": {
   "display_name": "car_predict",
   "language": "python",
   "name": "python3"
  },
  "language_info": {
   "codemirror_mode": {
    "name": "ipython",
    "version": 3
   },
   "file_extension": ".py",
   "mimetype": "text/x-python",
   "name": "python",
   "nbconvert_exporter": "python",
   "pygments_lexer": "ipython3",
   "version": "3.12.2"
  }
 },
 "nbformat": 4,
 "nbformat_minor": 2
}
