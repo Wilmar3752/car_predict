{
 "cells": [
  {
   "cell_type": "code",
   "execution_count": 13,
   "metadata": {},
   "outputs": [],
   "source": [
    "import pandas as pd"
   ]
  },
  {
   "cell_type": "code",
   "execution_count": 14,
   "metadata": {},
   "outputs": [],
   "source": [
    "car_data = pd.read_csv('data/raw/car_raw.csv', index_col=0)\n",
    "car_data['year_created' ] = car_data['_created'].apply(lambda x: x[:4]).astype(int)\n",
    "car_data['antique'] = car_data['year_created'] - car_data['years']\n",
    "final_vars = ['price', 'antique', 'vehicle_make', 'vehicle_line', 'kilometraje', 'location_city', 'location_state']\n",
    "car_data = car_data[final_vars]"
   ]
  },
  {
   "cell_type": "code",
   "execution_count": 15,
   "metadata": {},
   "outputs": [
    {
     "data": {
      "text/html": [
       "<div>\n",
       "<style scoped>\n",
       "    .dataframe tbody tr th:only-of-type {\n",
       "        vertical-align: middle;\n",
       "    }\n",
       "\n",
       "    .dataframe tbody tr th {\n",
       "        vertical-align: top;\n",
       "    }\n",
       "\n",
       "    .dataframe thead th {\n",
       "        text-align: right;\n",
       "    }\n",
       "</style>\n",
       "<table border=\"1\" class=\"dataframe\">\n",
       "  <thead>\n",
       "    <tr style=\"text-align: right;\">\n",
       "      <th></th>\n",
       "      <th>price</th>\n",
       "      <th>antique</th>\n",
       "      <th>vehicle_make</th>\n",
       "      <th>vehicle_line</th>\n",
       "      <th>kilometraje</th>\n",
       "      <th>location_city</th>\n",
       "      <th>location_state</th>\n",
       "    </tr>\n",
       "  </thead>\n",
       "  <tbody>\n",
       "    <tr>\n",
       "      <th>0</th>\n",
       "      <td>58000000</td>\n",
       "      <td>8</td>\n",
       "      <td>Suzuki</td>\n",
       "      <td>Grand</td>\n",
       "      <td>54700</td>\n",
       "      <td>Suba</td>\n",
       "      <td>Bogotá D.C.</td>\n",
       "    </tr>\n",
       "    <tr>\n",
       "      <th>1</th>\n",
       "      <td>82000000</td>\n",
       "      <td>5</td>\n",
       "      <td>Mazda</td>\n",
       "      <td>3</td>\n",
       "      <td>55300</td>\n",
       "      <td>Envigado</td>\n",
       "      <td>Antioquia</td>\n",
       "    </tr>\n",
       "    <tr>\n",
       "      <th>2</th>\n",
       "      <td>15000000</td>\n",
       "      <td>19</td>\n",
       "      <td>Renault</td>\n",
       "      <td>Symbol</td>\n",
       "      <td>250209</td>\n",
       "      <td>Medellín</td>\n",
       "      <td>Antioquia</td>\n",
       "    </tr>\n",
       "    <tr>\n",
       "      <th>3</th>\n",
       "      <td>22000000</td>\n",
       "      <td>12</td>\n",
       "      <td>Chery</td>\n",
       "      <td>Qq</td>\n",
       "      <td>58576</td>\n",
       "      <td>Suba</td>\n",
       "      <td>Bogotá D.C.</td>\n",
       "    </tr>\n",
       "    <tr>\n",
       "      <th>4</th>\n",
       "      <td>119500000</td>\n",
       "      <td>1</td>\n",
       "      <td>Mazda</td>\n",
       "      <td>Cx-30</td>\n",
       "      <td>27100</td>\n",
       "      <td>Suba</td>\n",
       "      <td>Bogotá D.C.</td>\n",
       "    </tr>\n",
       "    <tr>\n",
       "      <th>...</th>\n",
       "      <td>...</td>\n",
       "      <td>...</td>\n",
       "      <td>...</td>\n",
       "      <td>...</td>\n",
       "      <td>...</td>\n",
       "      <td>...</td>\n",
       "      <td>...</td>\n",
       "    </tr>\n",
       "    <tr>\n",
       "      <th>3505</th>\n",
       "      <td>59500000</td>\n",
       "      <td>3</td>\n",
       "      <td>Chevrolet</td>\n",
       "      <td>Onix</td>\n",
       "      <td>24000</td>\n",
       "      <td>Santa Fe</td>\n",
       "      <td>Bogotá D.C.</td>\n",
       "    </tr>\n",
       "    <tr>\n",
       "      <th>3506</th>\n",
       "      <td>65000000</td>\n",
       "      <td>6</td>\n",
       "      <td>Mazda</td>\n",
       "      <td>2</td>\n",
       "      <td>56000</td>\n",
       "      <td>Usaquén</td>\n",
       "      <td>Bogotá D.C.</td>\n",
       "    </tr>\n",
       "    <tr>\n",
       "      <th>3507</th>\n",
       "      <td>102000000</td>\n",
       "      <td>4</td>\n",
       "      <td>Mercedes-benz</td>\n",
       "      <td>A</td>\n",
       "      <td>45000</td>\n",
       "      <td>Usaquén</td>\n",
       "      <td>Bogotá D.C.</td>\n",
       "    </tr>\n",
       "    <tr>\n",
       "      <th>3508</th>\n",
       "      <td>63000000</td>\n",
       "      <td>5</td>\n",
       "      <td>Suzuki</td>\n",
       "      <td>Grand</td>\n",
       "      <td>105400</td>\n",
       "      <td>Usaquén</td>\n",
       "      <td>Bogotá D.C.</td>\n",
       "    </tr>\n",
       "    <tr>\n",
       "      <th>3509</th>\n",
       "      <td>150000000</td>\n",
       "      <td>5</td>\n",
       "      <td>Mitsubishi</td>\n",
       "      <td>Montero</td>\n",
       "      <td>18500</td>\n",
       "      <td>Fontibón</td>\n",
       "      <td>Bogotá D.C.</td>\n",
       "    </tr>\n",
       "  </tbody>\n",
       "</table>\n",
       "<p>3253 rows × 7 columns</p>\n",
       "</div>"
      ],
      "text/plain": [
       "          price  antique   vehicle_make vehicle_line  kilometraje  \\\n",
       "0      58000000        8         Suzuki        Grand        54700   \n",
       "1      82000000        5          Mazda            3        55300   \n",
       "2      15000000       19        Renault       Symbol       250209   \n",
       "3      22000000       12          Chery           Qq        58576   \n",
       "4     119500000        1          Mazda        Cx-30        27100   \n",
       "...         ...      ...            ...          ...          ...   \n",
       "3505   59500000        3      Chevrolet         Onix        24000   \n",
       "3506   65000000        6          Mazda            2        56000   \n",
       "3507  102000000        4  Mercedes-benz            A        45000   \n",
       "3508   63000000        5         Suzuki        Grand       105400   \n",
       "3509  150000000        5     Mitsubishi      Montero        18500   \n",
       "\n",
       "     location_city location_state  \n",
       "0             Suba    Bogotá D.C.  \n",
       "1         Envigado      Antioquia  \n",
       "2         Medellín      Antioquia  \n",
       "3             Suba    Bogotá D.C.  \n",
       "4             Suba    Bogotá D.C.  \n",
       "...            ...            ...  \n",
       "3505      Santa Fe    Bogotá D.C.  \n",
       "3506       Usaquén    Bogotá D.C.  \n",
       "3507       Usaquén    Bogotá D.C.  \n",
       "3508       Usaquén    Bogotá D.C.  \n",
       "3509      Fontibón    Bogotá D.C.  \n",
       "\n",
       "[3253 rows x 7 columns]"
      ]
     },
     "execution_count": 15,
     "metadata": {},
     "output_type": "execute_result"
    }
   ],
   "source": [
    "car_data"
   ]
  },
  {
   "cell_type": "code",
   "execution_count": 16,
   "metadata": {},
   "outputs": [],
   "source": [
    "import joblib"
   ]
  },
  {
   "cell_type": "code",
   "execution_count": 17,
   "metadata": {},
   "outputs": [],
   "source": [
    "model = joblib.load('models/final_pipeline.joblib')"
   ]
  },
  {
   "cell_type": "code",
   "execution_count": 18,
   "metadata": {},
   "outputs": [
    {
     "ename": "ValueError",
     "evalue": "Number of features of the model must match the input. Model n_features_ is 10 and input n_features is 6",
     "output_type": "error",
     "traceback": [
      "\u001b[0;31m---------------------------------------------------------------------------\u001b[0m",
      "\u001b[0;31mValueError\u001b[0m                                Traceback (most recent call last)",
      "Cell \u001b[0;32mIn[18], line 1\u001b[0m\n\u001b[0;32m----> 1\u001b[0m \u001b[43mmodel\u001b[49m\u001b[38;5;241;43m.\u001b[39;49m\u001b[43mpredict\u001b[49m\u001b[43m(\u001b[49m\u001b[43mcar_data\u001b[49m\u001b[38;5;241;43m.\u001b[39;49m\u001b[43mdrop\u001b[49m\u001b[43m(\u001b[49m\u001b[43mcolumns\u001b[49m\u001b[38;5;241;43m=\u001b[39;49m\u001b[38;5;124;43m'\u001b[39;49m\u001b[38;5;124;43mprice\u001b[39;49m\u001b[38;5;124;43m'\u001b[39;49m\u001b[43m)\u001b[49m\u001b[43m)\u001b[49m\n",
      "File \u001b[0;32m~/anaconda3/envs/car_predict/lib/python3.11/site-packages/sklearn/pipeline.py:603\u001b[0m, in \u001b[0;36mPipeline.predict\u001b[0;34m(self, X, **params)\u001b[0m\n\u001b[1;32m    601\u001b[0m     \u001b[38;5;28;01mfor\u001b[39;00m _, name, transform \u001b[38;5;129;01min\u001b[39;00m \u001b[38;5;28mself\u001b[39m\u001b[38;5;241m.\u001b[39m_iter(with_final\u001b[38;5;241m=\u001b[39m\u001b[38;5;28;01mFalse\u001b[39;00m):\n\u001b[1;32m    602\u001b[0m         Xt \u001b[38;5;241m=\u001b[39m transform\u001b[38;5;241m.\u001b[39mtransform(Xt)\n\u001b[0;32m--> 603\u001b[0m     \u001b[38;5;28;01mreturn\u001b[39;00m \u001b[38;5;28;43mself\u001b[39;49m\u001b[38;5;241;43m.\u001b[39;49m\u001b[43msteps\u001b[49m\u001b[43m[\u001b[49m\u001b[38;5;241;43m-\u001b[39;49m\u001b[38;5;241;43m1\u001b[39;49m\u001b[43m]\u001b[49m\u001b[43m[\u001b[49m\u001b[38;5;241;43m1\u001b[39;49m\u001b[43m]\u001b[49m\u001b[38;5;241;43m.\u001b[39;49m\u001b[43mpredict\u001b[49m\u001b[43m(\u001b[49m\u001b[43mXt\u001b[49m\u001b[43m,\u001b[49m\u001b[43m \u001b[49m\u001b[38;5;241;43m*\u001b[39;49m\u001b[38;5;241;43m*\u001b[39;49m\u001b[43mparams\u001b[49m\u001b[43m)\u001b[49m\n\u001b[1;32m    605\u001b[0m \u001b[38;5;66;03m# metadata routing enabled\u001b[39;00m\n\u001b[1;32m    606\u001b[0m routed_params \u001b[38;5;241m=\u001b[39m process_routing(\u001b[38;5;28mself\u001b[39m, \u001b[38;5;124m\"\u001b[39m\u001b[38;5;124mpredict\u001b[39m\u001b[38;5;124m\"\u001b[39m, \u001b[38;5;241m*\u001b[39m\u001b[38;5;241m*\u001b[39mparams)\n",
      "File \u001b[0;32m~/anaconda3/envs/car_predict/lib/python3.11/site-packages/lightgbm/sklearn.py:937\u001b[0m, in \u001b[0;36mLGBMModel.predict\u001b[0;34m(self, X, raw_score, start_iteration, num_iteration, pred_leaf, pred_contrib, validate_features, **kwargs)\u001b[0m\n\u001b[1;32m    935\u001b[0m n_features \u001b[38;5;241m=\u001b[39m X\u001b[38;5;241m.\u001b[39mshape[\u001b[38;5;241m1\u001b[39m]\n\u001b[1;32m    936\u001b[0m \u001b[38;5;28;01mif\u001b[39;00m \u001b[38;5;28mself\u001b[39m\u001b[38;5;241m.\u001b[39m_n_features \u001b[38;5;241m!=\u001b[39m n_features:\n\u001b[0;32m--> 937\u001b[0m     \u001b[38;5;28;01mraise\u001b[39;00m \u001b[38;5;167;01mValueError\u001b[39;00m(\u001b[38;5;124m\"\u001b[39m\u001b[38;5;124mNumber of features of the model must \u001b[39m\u001b[38;5;124m\"\u001b[39m\n\u001b[1;32m    938\u001b[0m                      \u001b[38;5;124mf\u001b[39m\u001b[38;5;124m\"\u001b[39m\u001b[38;5;124mmatch the input. Model n_features_ is \u001b[39m\u001b[38;5;132;01m{\u001b[39;00m\u001b[38;5;28mself\u001b[39m\u001b[38;5;241m.\u001b[39m_n_features\u001b[38;5;132;01m}\u001b[39;00m\u001b[38;5;124m and \u001b[39m\u001b[38;5;124m\"\u001b[39m\n\u001b[1;32m    939\u001b[0m                      \u001b[38;5;124mf\u001b[39m\u001b[38;5;124m\"\u001b[39m\u001b[38;5;124minput n_features is \u001b[39m\u001b[38;5;132;01m{\u001b[39;00mn_features\u001b[38;5;132;01m}\u001b[39;00m\u001b[38;5;124m\"\u001b[39m)\n\u001b[1;32m    940\u001b[0m \u001b[38;5;66;03m# retrive original params that possibly can be used in both training and prediction\u001b[39;00m\n\u001b[1;32m    941\u001b[0m \u001b[38;5;66;03m# and then overwrite them (considering aliases) with params that were passed directly in prediction\u001b[39;00m\n\u001b[1;32m    942\u001b[0m predict_params \u001b[38;5;241m=\u001b[39m \u001b[38;5;28mself\u001b[39m\u001b[38;5;241m.\u001b[39m_process_params(stage\u001b[38;5;241m=\u001b[39m\u001b[38;5;124m\"\u001b[39m\u001b[38;5;124mpredict\u001b[39m\u001b[38;5;124m\"\u001b[39m)\n",
      "\u001b[0;31mValueError\u001b[0m: Number of features of the model must match the input. Model n_features_ is 10 and input n_features is 6"
     ]
    }
   ],
   "source": [
    "model.predict(car_data.drop(columns='price'))"
   ]
  },
  {
   "cell_type": "code",
   "execution_count": null,
   "metadata": {},
   "outputs": [],
   "source": [
    "|"
   ]
  }
 ],
 "metadata": {
  "kernelspec": {
   "display_name": "car_predict",
   "language": "python",
   "name": "python3"
  },
  "language_info": {
   "codemirror_mode": {
    "name": "ipython",
    "version": 3
   },
   "file_extension": ".py",
   "mimetype": "text/x-python",
   "name": "python",
   "nbconvert_exporter": "python",
   "pygments_lexer": "ipython3",
   "version": "3.11.8"
  }
 },
 "nbformat": 4,
 "nbformat_minor": 2
}
